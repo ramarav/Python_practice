{
 "cells": [
  {
   "cell_type": "markdown",
   "metadata": {},
   "source": [
    "Python in a nutshell \n",
    "\n",
    "Part - I\n",
    "     1. Python Interpreter\n",
    "     2. Python2 Vs Python3\n",
    "     3. Python Data Types\n",
    "         a) Numbers\n",
    "         b) Math Functions\n",
    "         c) Operator Precedence\n",
    "         d) Bin() and Complex()\n",
    "     4. Variables\n",
    "     5. Expressions Vs Statements\n",
    "     6. Augmented Assignment Operator\n",
    "     7. Strings\n",
    "         a) String Concatenation\n",
    "         b) Type conversion\n",
    "         c) Escape Sequences\n",
    "         d) Formatted Strings\n",
    "         e) String Indexes\n",
    "         f) Immutability\n",
    "         g) Built-in functions and methods\n",
    "     8. Booleans\n",
    "     9. Lists\n",
    "         a) List Slicing\n",
    "         b) Matrix\n",
    "         c) List Methods\n",
    "         d) Common List Patterns\n",
    "         e) List Unpacking\n",
    "     10. None\n",
    "     11. Dictionaries\n",
    "         a) Dictionary Methods\n",
    "     12. Tuples\n",
    "     13. Sets\n",
    "Part – II\n",
    "     1. Breaking the Flow\n",
    "     2. Conditional Logic\n",
    "     3. Indentation\n",
    "     4. Truthy Vs Falsey\n",
    "     5. Ternary Operator\n",
    "     6. Short Circuiting\n",
    "     7. Logical Operators\n",
    "     8. is Vs ==\n",
    "     9. For Loops\n",
    "         a) Iterables\n",
    "         b) range()\n",
    "         c) enumerate()\n",
    "     10. While Loops\n",
    "         a) Break – Continue – Pass\n",
    "     11. Our first GUI\n",
    "     12. Functions\n",
    "         a) Parameters and Arguments\n",
    "         b) Default Parameters and Keyword Arguments\n",
    "         c) return\n",
    "     13. Methods Vs Functions\n",
    "     14. Docstrings\n",
    "     15. args and kwargs\n",
    "     16. Scope\n",
    "         a) Scope Rules\n",
    "         b) Global Keywords\n",
    "         c) Non Local Keywords\n",
    "         d) Why do we need scope\n",
    "     17. Pure Functions\n",
    "         a) map()\n",
    "         b) filter()\n",
    "         c) zip()\n",
    "         d) reduce()\n",
    "     18. List Comprehensions\n",
    "     19. Set Comprehensions\n",
    "     20. Modules in Python\n",
    "         a) Importing Modules\n",
    "     21. Packages in Python"
   ]
  },
  {
   "cell_type": "code",
   "execution_count": 1,
   "metadata": {},
   "outputs": [
    {
     "name": "stdout",
     "output_type": "stream",
     "text": [
      "Mekala Ramarao\n"
     ]
    }
   ],
   "source": [
    "print('Mekala Ramarao')"
   ]
  },
  {
   "cell_type": "code",
   "execution_count": 2,
   "metadata": {},
   "outputs": [
    {
     "name": "stdout",
     "output_type": "stream",
     "text": [
      "Enter your nameMekala Ramarao\n",
      "Enter your HT Number1303PH0803\n",
      "Mekala Ramarao\n",
      "1303PH0803\n"
     ]
    }
   ],
   "source": [
    "name = input('Enter your name : ')\n",
    "HTNum=input('Enter your HT Number : ')\n",
    "print(name)\n",
    "print(HTNum)"
   ]
  },
  {
   "cell_type": "code",
   "execution_count": null,
   "metadata": {},
   "outputs": [],
   "source": []
  }
 ],
 "metadata": {
  "kernelspec": {
   "display_name": "Python 3",
   "language": "python",
   "name": "python3"
  },
  "language_info": {
   "codemirror_mode": {
    "name": "ipython",
    "version": 3
   },
   "file_extension": ".py",
   "mimetype": "text/x-python",
   "name": "python",
   "nbconvert_exporter": "python",
   "pygments_lexer": "ipython3",
   "version": "3.7.6"
  }
 },
 "nbformat": 4,
 "nbformat_minor": 4
}
